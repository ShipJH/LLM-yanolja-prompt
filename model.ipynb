{
 "cells": [
  {
   "cell_type": "code",
   "id": "initial_id",
   "metadata": {
    "collapsed": true,
    "ExecuteTime": {
     "end_time": "2024-10-04T15:07:02.002632Z",
     "start_time": "2024-10-04T15:07:00.978427Z"
    }
   },
   "source": [
    "import os\n",
    "\n",
    "from openai import OpenAI\n",
    "\n",
    "OPENAI_API_KEY = os.environ[\"OPENAI_API_KEY\"]\n",
    "\n",
    "client = OpenAI(api_key=OPENAI_API_KEY)\n",
    "\n",
    "# completion = client.chat.completions.create(\n",
    "#     model = 'gpt-3.5-turbo-0125',\n",
    "#     messages = [{\n",
    "#         'role': 'user',\n",
    "#         'content': 'hi'\n",
    "#     }],\n",
    "#     temperature = 0.0\n",
    "# )\n",
    "# \n",
    "# print(completion.choices[0].message.content)\n"
   ],
   "outputs": [],
   "execution_count": 5
  },
  {
   "metadata": {
    "ExecuteTime": {
     "end_time": "2024-10-03T17:56:59.394635Z",
     "start_time": "2024-10-03T17:56:59.388987Z"
    }
   },
   "cell_type": "code",
   "source": [
    "import json\n",
    "\n",
    "with open('./res/reviews.json', 'r', encoding='utf-8') as f:\n",
    "    review_list = json.load(f)\n",
    "\n",
    "review_list[:5]"
   ],
   "id": "20ae2728f792ceba",
   "outputs": [
    {
     "data": {
      "text/plain": [
       "[{'review': '전반적으로 만족스러웠으나\\n수압이 약해도 너무 약함.... 정말 역대급...\\n수압 때문에 재방문 하지 않을 것임',\n",
       "  'stars': 4,\n",
       "  'date': '4일 전'},\n",
       " {'review': '재방문한 숙소인데..입지도좋고 먹을곳 많아서 좋아요', 'stars': 5, 'date': '2024.09.23'},\n",
       " {'review': '객실이 깨끗하고 직원도 친절해요. 침구가 깨끗하고 아주 좋았어요.',\n",
       "  'stars': 5,\n",
       "  'date': '2024.09.18'},\n",
       " {'review': '깔끔하고 친절합니다', 'stars': 5, 'date': '2024.09.16'},\n",
       " {'review': '직원분들도 너무 친절하고 방도 너무 쾌적하고 좋았습니다.',\n",
       "  'stars': 5,\n",
       "  'date': '2024.09.13'}]"
      ]
     },
     "execution_count": 4,
     "metadata": {},
     "output_type": "execute_result"
    }
   ],
   "execution_count": 4
  },
  {
   "metadata": {
    "ExecuteTime": {
     "end_time": "2024-10-03T17:47:25.555144Z",
     "start_time": "2024-10-03T17:47:25.551047Z"
    }
   },
   "cell_type": "code",
   "source": [
    "good_cnt, bad_cnt = 0, 0\n",
    "for r in review_list:\n",
    "    if r['stars'] == 5:\n",
    "        good_cnt += 1\n",
    "    else:\n",
    "        bad_cnt += 1\n",
    "        \n",
    "good_cnt, bad_cnt"
   ],
   "id": "ebc4e4b27dd3ab93",
   "outputs": [
    {
     "data": {
      "text/plain": [
       "(179, 41)"
      ]
     },
     "execution_count": 12,
     "metadata": {},
     "output_type": "execute_result"
    }
   ],
   "execution_count": 12
  },
  {
   "metadata": {
    "ExecuteTime": {
     "end_time": "2024-10-03T17:50:04.971083Z",
     "start_time": "2024-10-03T17:50:04.965933Z"
    }
   },
   "cell_type": "code",
   "source": [
    "reviews_good, reivews_bad = [], []\n",
    "for r in review_list:\n",
    "    if r['stars'] == 5:\n",
    "        reviews_good.append('[REVIEW_START]' + r['review'] + '[REVIEW_END]') # [REVIEW_START]와 [REVIEW_END]를 추가하여 문장의 시작과 끝을 구분 ( 스페셜 토큰 )\n",
    "    else:\n",
    "        reivews_bad.append('[REVIEW_START]' + r['review'] + '[REVIEW_END]')\n",
    "        \n"
   ],
   "id": "91623a631bed6c7b",
   "outputs": [
    {
     "data": {
      "text/plain": [
       "['[REVIEW_START]전반적으로 만족스러웠으나\\n수압이 약해도 너무 약함.... 정말 역대급...\\n수압 때문에 재방문 하지 않을 것임[REVIEW_END]',\n",
       " '[REVIEW_START]가격대비 뷰를 제외하고 별로였음. 넷플릭스도 특정객실 외에 안되나봄... 직원들은 친절하나 호텔보다는 돗대기 시장 같은 느낌이 남...[REVIEW_END]',\n",
       " '[REVIEW_START]객실연결 엘베불편 벽지가 울렁 다 떠있음\\n그래도 참았는데\\n24시간스테이하는데 중간에 문열고 허락없이 청소하고나가심  외출했다가 다시들어와서 깜놀 믿고 문잠그고 캐리어 다두고 나갔다가\\n어이없음!!황당 그자체\\n사과는 엄청하심!! 그래도 찜찜해서 넘 불쾌함!!![REVIEW_END]']"
      ]
     },
     "execution_count": 13,
     "metadata": {},
     "output_type": "execute_result"
    }
   ],
   "execution_count": 13
  },
  {
   "metadata": {
    "ExecuteTime": {
     "end_time": "2024-10-03T17:53:22.231522Z",
     "start_time": "2024-10-03T17:53:22.225042Z"
    }
   },
   "cell_type": "code",
   "source": [
    "review_good_text = '\\n'.join(reviews_good)\n",
    "reivews_bad_text = '\\n'.join(reivews_bad)\n",
    "\n",
    "\n"
   ],
   "id": "1dfcf94c9547d115",
   "outputs": [
    {
     "data": {
      "text/plain": [
       "'[REVIEW_START]재방문한 숙소인데..입지도좋고 먹을곳 많아서 좋아요[REVIEW_END]\\n[REVIEW_START]객실이 깨끗하고 직원도 친절해요. 침구가 깨끗하고 아주 좋았어요.[REVIEW_END]\\n[REVIEW_START]깔끔하고 친절합니다[REVIEW_END]\\n[REVIEW_START]직원분들도 너무 친절하고 방도 너무 쾌적하고 좋았습니다.[REVIEW_END]\\n[REVIEW_START]두번째이용인데 깔끔하고 좋았어요[REVIEW_END]\\n[REVIEW_START]숙소도 청결했고 위치도 간편하고 주변에 먹거리나 구경할 곳도 많아서 좋아요[REVIEW_END]\\n[REVIEW_START]안녕인사동이랑 붙어있어서 다양하게 놀고 먹고 체험하고 갑니다.[REVIEW_END]\\n[REVIEW_START]아 아 아 아 아 아[REVIEW_END]\\n[REVIEW_START]위치가 너무 좋아서 그 외 자잘한 단점이 다 상쇄되네요 주말 가격 살짝 더 낮았으면 좋겟어요[REVIEW_END]\\n[REVIEW_START]잘쉬고겁니다 방도 깨끗하니 너무좋았어요~[REVIEW_END]\\n[REVIEW_START]편안하게 잘 쉬었습니다.[REVIEW_END]\\n[REVIEW_START]조용하고 편안하게 잘 쉬었습니다.[REVIEW_END]\\n[REVIEW_START]가끔 서울 일정이 있을때마다 호텔을 이용하는데요.\\nㅍㅍㅇㅊ 바이 ㅅㄹㅌ을 자주 이용하다가 나인트리는 처음 방문했습니다.\\n합리적인 가격에 위치도 좋아서 선택하게 됐어요.\\n안국역 6번 출구에서 가까워 대중교통 이용하기 좋구요.\\n주변 관광하기도 좋습니다.\\n안녕인사동과 한 건물에 있어서 인프라가 정말 좋네요.\\n편의점은 바깥쪽 다른 건물로 이동했더라구요. 건물내에는 없으니 참고하세요.\\n다 좋은데 소파앞에 티테이블이 없다보니 조금 불편하더라구요. 소파에 앉아서 먹고싶은데 들고 먹어야해서..\\n다른분들도 불편했던지 소파가 많이 이것저것 오염되어서 안빠지는것 같더라구요. 개선하면 좋을것 같아요[REVIEW_END]\\n[REVIEW_START]최고에요! 잘 쉬다갑니다 주변 볼거리도 많고 호텔도 깨끗해요[REVIEW_END]\\n[REVIEW_START]정말 깔끔하고 편하고 저렴하게 다녀왔습니다. 단점이 하나 있다면 방음은 좀 부족한거 같습니다.[REVIEW_END]\\n[REVIEW_START]깔끔하고 편합니다.[REVIEW_END]\\n[REVIEW_START]3박 예약했는데. 1박과 나머지 2박 예약조건이 달라 방을 옮겨야하나 생각했는데 고객센터에서 친절하게 응대해주셨음.[REVIEW_END]\\n[REVIEW_START]인사동 안국역 근처라 근처 볼거리와 즐길거리가 많았고, 조식도 맛있었습니다.\\n청소 별하나 뺀거는 앞 투숙객의 긴 머리카락이 몇개 보여서 였고, 다른건 청결하게 관리를 잘 하신거 같아요.[REVIEW_END]\\n[REVIEW_START]11층 배정받았는데 뷰도 좋고 객실 청결하고 깔끔해서 편안히 쉬었어요[REVIEW_END]\\n[REVIEW_START]직원분들 참 친절하셨고 편안하게 쉬고 갑니다.[REVIEW_END]\\n[REVIEW_START]직원분들 친절하시고 잘 쉬다가 갑니다[REVIEW_END]\\n[REVIEW_START]항상 오면 깔끔하고 쾌적한 호텔입니다[REVIEW_END]\\n[REVIEW_START]더 좋아진것같습니다.[REVIEW_END]\\n[REVIEW_START]깨끗하고 친절해서 좋았어요[REVIEW_END]\\n[REVIEW_START]지리적 요건도 좋은것 같고 주차장 이용에도 편리했습니다.[REVIEW_END]\\n[REVIEW_START]편하게 쉬다가 갑니당~~[REVIEW_END]\\n[REVIEW_START]우선 접근성이 너무 좋구요(종로,광화문,경복궁,광장시장,인사동) 숙소도 청결하고 프론트 직원분들도 너무 친절하세요.. 건물에 식당도 있어서 너무나 편했어여..진짜 요기 추천이요..욕조 크게 필요하지 않으신분들은 미리 얘기하시면 욕조없는곳으로 배정해주시는데..전 없는쪽이 더 낫더라구요\\r\\n(사진이 용량이 너무 작아서 2장밖에 안올라가네여ㅜ)[REVIEW_END]\\n[REVIEW_START]잘쉬었다 왔습니다 역시나 편하네요[REVIEW_END]\\n[REVIEW_START]여자친구랑 편히 잘 쉬고 놀다 갑니당 방 깨끗하구 에어컨 잘 나와서 시원하네욤[REVIEW_END]\\n[REVIEW_START]최고에요~~~~~~[REVIEW_END]\\n[REVIEW_START]침대 너누 편해요. 단 주차비 내야하니 참조하세요[REVIEW_END]\\n[REVIEW_START]위치가 최상이네요. 시설도 깔끔하고, 뷰도 좋았어요. 인사동쪽으로 간다면 최상의 선택!![REVIEW_END]\\n[REVIEW_START]인사동 방문시에는 항상 이용하고 있습니다,.위치와 서비스 모두 만족합니다[REVIEW_END]\\n[REVIEW_START]친절하고 위치가 좋습니다[REVIEW_END]\\n[REVIEW_START]재방문 의사 1000%[REVIEW_END]\\n[REVIEW_START]깨끗하고 너무 좋았어요[REVIEW_END]\\n[REVIEW_START]위치도 아주좋고 숙소도 깨끗하고 좋아요~[REVIEW_END]\\n[REVIEW_START]잘쉬고놀다갑니다  감사[REVIEW_END]\\n[REVIEW_START]숙소는 말할 필요 없을것 같고 주변 인사동과 조계사 위로 경복궁을 도보로 품은 입지가 최고인 곳[REVIEW_END]\\n[REVIEW_START]3번째 방문인데 좋습니다! 주변관광지와 교통도 좋습니다.[REVIEW_END]\\n[REVIEW_START]인생 최고의 호텔입니다[REVIEW_END]\\n[REVIEW_START]안국역 근처에 놀거리도 많아서 좋아요[REVIEW_END]\\n[REVIEW_START]전체적으로 깔끔했어요! 기념일에 방문했슴니다.[REVIEW_END]\\n[REVIEW_START]나인트리인사동은 서울갈때마다 하루는 꼭 숙박하는 곳입니다. 시설이나 서비스 위치 뭐하나 빠지는 것 없는 최고의 숙소입니다. 이번에도 정말 편안하게 잘 쉬다 왔습니다. ^^[REVIEW_END]\\n[REVIEW_START]엄마랑 같이 이용했는데 위치도 좋고 깔끔하고 좋았습니다[REVIEW_END]\\n[REVIEW_START]시설도 깨끗하고 호텔문을 나오면 인사동이라 주변 관광하기 너무 편리합니다^^[REVIEW_END]\\n[REVIEW_START]인사동 접근성 좋아요. 숙소 깨끗합니다.[REVIEW_END]\\n[REVIEW_START]교통과 위치가 최고의 장점인 것 같아요! 주변에 시설 잘 즐기고 놀다가 갑니다~[REVIEW_END]\\n[REVIEW_START]위치가 너무 좋은곳에 있어요 교통편.편의점. 여러 시설들의 가까이에 있어서 이용하기 좋았고 시설도 청결하고 직원분들도 친절하고 좋았습니다\\n가을에도 호캉스할 계획인데 여기 또 연박할계획입니다\\n주변에 디저트맛집들의 진짜 많아서 나인트리에서 주무셔야 오픈런가능합니다[REVIEW_END]\\n[REVIEW_START]청결도에 대해 말이 많아서 좀 걱정했는데 개끗했고 인사동 중심에 위치해있어서 접근성도 좋았습니다![REVIEW_END]\\n[REVIEW_START]접근성, 시설, 위생 모든 면에서 만족했습니다.[REVIEW_END]\\n[REVIEW_START]시설, 위치 등 모든 면에서 만족하고 갑니다.[REVIEW_END]\\n[REVIEW_START]관광지에 있는 호텔이라 복도가 조금 소란스러웠지만 안국역 근처에 위치해있거 근처에 맛집과 궁궐이 가까워서 접근성이 좋아요![REVIEW_END]\\n[REVIEW_START]인사동 한복판에 위치해있어 무엇을 구경하려해도 접근성 아주 좋습니다[REVIEW_END]\\n[REVIEW_START]방 전체는 깔끔하고 즇았는데 세면대 머리카락 몇개는 안치워져 있고 프론트 직원도 그렇게 친절하다는 느낌은 아니였어 그치만 교통편이나 위치는 좋았어요[REVIEW_END]\\n[REVIEW_START]가격 위치 서비스 모두 최고였어요! 다음 서울 여행도 여기에서 꼭 묵고싶어요 ㅎㅎ 최고[REVIEW_END]\\n[REVIEW_START]잘 이용했습니다[REVIEW_END]\\n[REVIEW_START]나인트리 최고… 담에 또 예약할래요 위치도 시설도 넘 좋았습니다!!!![REVIEW_END]\\n[REVIEW_START]방음이 조금 안되는 것 빼고는 좋았어요![REVIEW_END]\\n[REVIEW_START]좋았어요\\n특히 카운터 엄청 친절하시네요![REVIEW_END]\\n[REVIEW_START]좋았습니다[REVIEW_END]\\n[REVIEW_START]굳굳굳굳굳[REVIEW_END]\\n[REVIEW_START]편안하게 좋은 휴식 취할 수 있었습니다.[REVIEW_END]\\n[REVIEW_START]서울만오면 비가와요 ^^ 그래도 편하게 잘 지내다왔어요. 주위에 맛집도 많아서 좋아요.[REVIEW_END]\\n[REVIEW_START]깨끗하고 좋아요~[REVIEW_END]\\n[REVIEW_START]자주 이용합니다[REVIEW_END]\\n[REVIEW_START]좋았습니다[REVIEW_END]\\n[REVIEW_START]자주갈거에여[REVIEW_END]\\n[REVIEW_START]주차비가 별도이긴하지만 좋아요^^[REVIEW_END]\\n[REVIEW_START]방이 무척 깨끗하고 뷰가 끝내줬어요~😊여자친구와 즐거운 시간을 보낼 수 있어서 너무 좋았네요! 이 가격에 이정도 서비스와 시설이라니..깜짝 놀랐어요! 앞으로 종종 이용할 것 같습니다!👋👏👏😆[REVIEW_END]\\n[REVIEW_START]위치 조하효[REVIEW_END]\\n[REVIEW_START]인사동과 종로 여행에 최고의 숙소입니다[REVIEW_END]\\n[REVIEW_START]잘쉬었습니다 편하고 좋네요[REVIEW_END]\\n[REVIEW_START]좋았습니다![REVIEW_END]\\n[REVIEW_START]잘쉬다가영[REVIEW_END]\\n[REVIEW_START]조계사 뷰 미쳤다[REVIEW_END]\\n[REVIEW_START]여자친구랑 인사동쪽에서 하룻밤 지내려구 예약. 둘다 서울 거주중이지만 편하게 숙소 근처 놀다 숙박할 목적. 근처 광화문. 익선동 등 맛집 접근성 최고. 카운터 직원분들 매우 친절. 룸  크기는 적당. 청결도 상급. 내부관리가 잘 되어 있다고 느낌. 방음이 아쉽단 후기가 있었는데 이용중 옆방소리는 없었고 퇴실 시간때 청소 소리, 복도에서 크게 이야기 하는 소리는 들림(이부분은 어딜가나 똑같음) 5성급 한강뷰나 1티어급 가려다 왔는데 가격도 착하구 모든면에서 만족. 재방문 의사 1000%.[REVIEW_END]\\n[REVIEW_START]가격도 괜찮고 위치도 좋고 잘 머물다가요![REVIEW_END]\\n[REVIEW_START]역시 나인트리 매번 좋습니다[REVIEW_END]\\n[REVIEW_START]다 좋았는데 배개밑 머리카락나오네요[REVIEW_END]\\n[REVIEW_START]인사동, 북촌등 접근성 좋고 룸 컨디션 좋습니다.[REVIEW_END]\\n[REVIEW_START]위치 너무 조하효..[REVIEW_END]\\n[REVIEW_START]욕조는 좁은편이고 생각보다 더 고급지고 친절하셔서 좋았고 접근성이 매우 좋아서 외국인분들도 많이 보였네요! 부대시설은 이용하지 않아서 잘 모르겠어요ㅎㅎ 추천![REVIEW_END]\\n[REVIEW_START]너무 편하게 잘 쉬었어요[REVIEW_END]\\n[REVIEW_START]서울갈때 항상 이용하는 숙소입니다[REVIEW_END]\\n[REVIEW_START]위치 좋고 가성비 정말 좋습니다![REVIEW_END]\\n[REVIEW_START]쾌적하고 좋아요[REVIEW_END]\\n[REVIEW_START]다시 가고싶을 정도로 요청사항도 잘 들어주시고 평가에 먼지가 많다고해서 먼지에 민감하다고 말씀드렸는데\\n요청사항을 넘 잘 들어주셔서 이렇게 먼지안쌓여있는 호텔은 처음이에요\\n공청기를 신청했는데 창문이 없다는게 유일한 단점이라 좀 건조해서 담에는 가습기로 요청드려야겠어요 ㅠㅡㅠ\\n어메니티도 넘 좋은걸로 비치되어 있고 다시한번 숙박하고 싶은 호텔이네요!!!\\n최고였습니다 XD\\n평생 숙박한곳중에 가성비로는 탑이고 가성비 안따져도 TOP5안에는 들어가는 호텔이였어요☺[REVIEW_END]\\n[REVIEW_START]깔끔했습니다[REVIEW_END]\\n[REVIEW_START]가격대비 시설이 엄청 좋아요 위치도 좋아요[REVIEW_END]\\n[REVIEW_START]위치도 좋고 시설도 매우 좋았습니다[REVIEW_END]\\n[REVIEW_START]편안하게 잘 쉬었습니다[REVIEW_END]\\n[REVIEW_START]친절하고 위치좋고 깔끔함[REVIEW_END]\\n[REVIEW_START]숙소 위치 너무너무 좋고 짐보관도 편해서 만족했습니다[REVIEW_END]\\n[REVIEW_START]깨끗하고 친절함[REVIEW_END]\\n[REVIEW_START]가끔씩 이용하는데 깨끗하구 교통이 좋아서 너무 좋았어요.[REVIEW_END]\\n[REVIEW_START]나인트리 인사동점은 처음인데 \\n주변 편의시설이 너무 잘되어있네요.  \\n주변에 화장품가게 없는거 빼고는 아주 좋습니다.\\n편의성이 너무 좋고 호텔도 깨끗하고 해서 하루 더 묵고 가요 \\n주변에 볼거리도 많고 호텔이랑 인사동이 바로 이어져 있어서 너무 편하고 신기하고 좋았어요 \\n나중에 또 올 예정입니다![REVIEW_END]\\n[REVIEW_START]잘쉬다갑니더[REVIEW_END]\\n[REVIEW_START]상당히 좋습니다.[REVIEW_END]\\n[REVIEW_START]가족여행으로 1박했는데 룸컨디션 좋고 각자 개별 침대 사용 가능해서 정말 좋았어요. 위치도 인사동 한가운데라 명동,종로,종각 나들이하기 편했습니다. 서울역까지 택시타고 기본요금거리. 재방문의사 있음🫶🫶[REVIEW_END]\\n[REVIEW_START]깨끗하고 좋았어용 근데 슬리퍼 어디 있는지 한참 찾은 건 안 비밀 ㅎㅎ ㅠ[REVIEW_END]\\n[REVIEW_START]밤 비행기 타고 숙박했는데 교통과 위치 둘 다 너무 좋았어요! 프로모션으로 레이트체크아웃이였는데 좀 더 여유가 생겨 좋았습니다[REVIEW_END]\\n[REVIEW_START]방도 깔금하고 좋았습니다. 다음에는 고층으로 이용해야겠어요[REVIEW_END]\\n[REVIEW_START]로비도 넓고 방도 넓고 깨끗했어요\\r\\n화장실도 청결하고 욕조도 있고 좋았어요\\r\\n다만 방음이 좀 안되는 편이에요.[REVIEW_END]\\n[REVIEW_START]지방에서 연박으로 놀러가시는분들께 추천 드립니다 주차도 일일15000원 결제에 입출차 상관없이 이용가능하고 연박하면 체크아웃하고나서도 15시까지 이용가능하더라구요 호텔 내부도 깔끔하고 침구류도 편하고 좋았습니다 조계사뷰도 좋았고 무엇보다 주변 접근성이 너무 좋았네요 푹 쉬다 갑니다~! 아 그리고 샴푸랑 바디워시도 좋았어요 제꺼 가지고갔는데 거기 있는거 사용했네요 ~![REVIEW_END]\\n[REVIEW_START]다좋았어요 역시 파르나스계열이라 넓고 쾌적해요 침구도 좋구요![REVIEW_END]\\n[REVIEW_START]서비스\\n서비스는 체크인 데스크, 유선 상의 상담도 모두 친절하셔서 좋았습니다~ \\n\\n청결도\\n메이드 된 방의 상태도 몹시 좋았어요 깨끗하고 잘 정돈되어 있었고, 내부 비치된 것들도 깔끔하게 정리되어 있었습니다\\n\\n시설\\n욕조는 두 사람 들어가기엔 좁지만 한 사람이 쓰기에는 충분했습니다! 아주 만족했어용 ㅎㅎ\\n뷰도 조계사 뷰 너무너무 예뻤어요 힐링 ㅎㅎ\\n\\n방음\\n호텔 복도나 외부에서 들리는 큰 소리는 들리더라구요 조금 아쉬웠지만 심각한 정도는 아니었습니다\\n\\n감사히 잘 먹었습니다~ ❤️😊[REVIEW_END]\\n[REVIEW_START]명동2 지점만 이용해보다 처음으로 인사동 지점을 방문했습니다 확실히 명동2보다 위치적으로 너무 좋은 것 같아요! 바로 앞이 인사동이다보니 먹을거리 놀거리도 많고, 안녕인사동이랑 이어지는것도 너무 좋았습니다!! 다음에 또 올 것 같아요[REVIEW_END]\\n[REVIEW_START]여자친구랑 잘 썻어요![REVIEW_END]\\n[REVIEW_START]여러번 이용했는데 항상 만족합니다 크리스마스 트리 이뻐서 사진바로찍었어요! 다음에 또올게요~[REVIEW_END]\\n[REVIEW_START]너무 좋아[REVIEW_END]\\n[REVIEW_START]서울 여행시 위치적으로 최고인듯합니다. 3일간 인사동에서 숙소잡고 여행 잘한것같아요[REVIEW_END]\\n[REVIEW_START]주차요금 할인이 되지만 유료인게 아쉽네요.[REVIEW_END]\\n[REVIEW_START]나인트리 호텔좋아요\\n직원분들도 착하시고 위치가 최고입니다.\\n저층 배정받긴했지만..안녕인사동이랑 같이 위치해있는 메리트가 너무 크네요! 방도깔끔해요[REVIEW_END]\\n[REVIEW_START]정말 좋은 하루 보내주게 해주셔서 감사합니다\\n잊지못할 추억 안고가네요![REVIEW_END]\\n[REVIEW_START]인사동 접근성도 좋고 행복한 연말이였습니다[REVIEW_END]\\n[REVIEW_START]인사동과 가까워서 좋았습니다. 주차시설도 15,000원을 따로 받긴했지만, 그만큼 편하게 잘 주차했습니다. 상가에 식당도 많고 가게들도 있어서 좋았습니다.[REVIEW_END]\\n[REVIEW_START]가성비 좋아요 ㅎㅎ[REVIEW_END]\\n[REVIEW_START]깔끔하고 분위기 좋았어요![REVIEW_END]\\n[REVIEW_START]깨끗한곳ᆢ\\n편히쉬었다가[REVIEW_END]\\n[REVIEW_START]인사동 가시면 여기 우선 예약하고 시작하시면 됩니다[REVIEW_END]\\n[REVIEW_START]접근성 진짜 최고!! 6층이었는데 앞에 건물에 딱 가려서 뷰가 썩 좋지 않았던거 빼고는 다 만족스러웠어요!![REVIEW_END]\\n[REVIEW_START]벌써 여러번 이용했는더 너무 잘잤습니다 또갈게요[REVIEW_END]\\n[REVIEW_START]위치 인사동 한복판 완전 최고이고 주차장도 꽤 넓었어요. 주차요금 1박에 15000원 따로 지불했고 객실 청결했지만 세면대가 밖에 나온 구조라 화장실 자체는 좁았어요. 일단 위치가 너무너무너무 좋으니 다른건 눈에 잘 안들어오는 것도 있지만 딱히 하자가 있는것도 아니고 가격도 좋은편이라 다음에 또 예약할 것 같아요[REVIEW_END]\\n[REVIEW_START]접근성 좋고 깨끗해요[REVIEW_END]\\n[REVIEW_START]부모님이 숙박하셨는데 깨끗하고 조식도 괜찮고 편안했다고 하시네요.\\n감사합니다.[REVIEW_END]\\n[REVIEW_START]외국인 친구들이 위치도..시설도  너무 좋아했어요.[REVIEW_END]\\n[REVIEW_START]깔끔합니다[REVIEW_END]\\n[REVIEW_START]위치도 좋았고 편하게 쉬다 가요![REVIEW_END]\\n[REVIEW_START]부모님 해드렸는데 만족하셨다네요[REVIEW_END]\\n[REVIEW_START]깨끗하고 같은 건물에 뭐가 많아서 좋아요[REVIEW_END]\\n[REVIEW_START]종로에서 놀기엔 좋아요.\\n전반적으로 깨끗하고 다음에 기회된다면 또 오고싶네요[REVIEW_END]\\n[REVIEW_START]위치나 시설모두 좋았습니다.[REVIEW_END]\\n[REVIEW_START]부모님이랑 같이 방 두개 예약해서 왔습니다~24시간 있어도 되는걸로 체크인해서 2시에 체크아웃했어요~내부 청결하고, 침대도 넘 편하더라구요~ㅎㅎ제일 좋은건 인사동 내에 있다는거~접근성짱이예요~담에도 여기 오려구요ㅎㅎ[REVIEW_END]\\n[REVIEW_START]후기를 믿고 하기를 잘 한것 같아요\\n강주드립니다[REVIEW_END]\\n[REVIEW_START]주차 및 위치가 최고입니다. 객실상태와 직원분들도 친절하셨습니다. 단, 침구류에서 먼지가 조금 많이나서 아쉬웠습니다. 재방문의사 100%입니다![REVIEW_END]\\n[REVIEW_START]편히 이용하였습니다[REVIEW_END]\\n[REVIEW_START]좋았어요좋았어요[REVIEW_END]\\n[REVIEW_START]너무너무좋았어요[REVIEW_END]\\n[REVIEW_START]최적하고 좋았습니다[REVIEW_END]\\n[REVIEW_START]언제나 친절하고 편안한 나인트리!![REVIEW_END]\\n[REVIEW_START]서울 1박2일 일정.\\n위치좋은곳 찾다가 예약했는데 너무 좋네요!\\n바로 밑 인사동이고 건너편은 조계사.\\n창덕궁,창경궁도 가깝고\\n대중교통도 (버스 지하철) 바로 앞에 있음!\\n직원분들도 친절하시고 \\n물품보관함도 무료로 사용가능해서 \\n덕분에 두손 자유로이 여행했습니다.\\n무엇보다 투숙객 전용 엘베가 있어 좋았고\\n뷰가 좋습니다!!\\n단점은 밖에서 삐ㅡ거리는 소음이 간헐적으로 들려요.[REVIEW_END]\\n[REVIEW_START]너무 좋았어요ㅎㅎ[REVIEW_END]\\n[REVIEW_START]시설도 좋았고 직원분들도 친절하셨습니다!\\n특히 1~4층까지 음식점부터 놀거리, 플리마켓까지 모든게 있어서 호텔건물에서 모든걸 해결할 수 있던점이 너무 좋았습니다[REVIEW_END]\\n[REVIEW_START]깔끔하고 조용히 잠잘잤어요[REVIEW_END]\\n[REVIEW_START]가을시즌에 정말 좋습니다 행사도 하고 위치도 좋고요\\n비싸요[REVIEW_END]\\n[REVIEW_START]삼청동 인사동 근처 숙소 중에 제일 깔끔하고 좋네요[REVIEW_END]\\n[REVIEW_START]좋았습니다[REVIEW_END]\\n[REVIEW_START]깨끗하고 만족스러운 서비스였습니다[REVIEW_END]\\n[REVIEW_START]깨끗하고 좋어요[REVIEW_END]\\n[REVIEW_START]위치가 너무 좋아요! 쌈짓길도 가깝고, 걸어서 북촌한옥마을도 금방이에요 ㅎㅎ 역하고도 가깝구요! 객실 내부도 깨끗해서 잘 묵다 왔습니다[REVIEW_END]\\n[REVIEW_START]좋았습니다\\n화장실에서 하수구냄새와 직원분들이 지쳐보여서 아쉬웠습니다[REVIEW_END]\\n[REVIEW_START]청결 좋음\\n위치 좋음\\n편의성 좋음[REVIEW_END]\\n[REVIEW_START]너무 좋아요 잘 놀다 갑니다ㅎㅎ[REVIEW_END]\\n[REVIEW_START]전반적으로 매우 만족[REVIEW_END]\\n[REVIEW_START]좋았습니당 위치가 깡패에요 근데 생각보다 좁고 + 화장대 있는 건 좋았습니다 혹시 넷플이용하시고 싶은 분들은 프론트로 꼭 연락하세요![REVIEW_END]\\n[REVIEW_START]통창으로 보이는 확트인 뷰가 참 좋았어요.[REVIEW_END]\\n[REVIEW_START]방도 깔끔하고 위치도 좋았습니다! 주말에 호캉스하면서 놀러다니기에 딱 좋네요ㅎㅎ 다음에 또 오고싶습니다![REVIEW_END]\\n[REVIEW_START]엄청 깔끔하고 좋았어요[REVIEW_END]\\n[REVIEW_START]코로나 이후로 비싸지고 예약도 어렵지만 위치 시설 어떤거 하나 빼놓을것 없는곳 👍[REVIEW_END]\\n[REVIEW_START]정말 좋았어요[REVIEW_END]\\n[REVIEW_START]화장실 환풍기가 안돌아가는 거 빼곤 다 좋았어요[REVIEW_END]\\n[REVIEW_START]서비스, 청결, 시설, 음식 등 흠잡을곳이 없네요 지내는동안 너무 좋았습니다[REVIEW_END]\\n[REVIEW_START]주변에볼거리놀거리많고 시설이 좋아서 푹 잤어요. 갓성비! 만족합니다.[REVIEW_END]\\n[REVIEW_START]깨끗하고 시설도좋아요[REVIEW_END]\\n[REVIEW_START]깔끔했습니다[REVIEW_END]\\n[REVIEW_START]안국에 위치하고 있어 외국인 관광객들이 많이 있습니다 그래서 그런지 외국 손님들에게 더 친절한 느낌을 받았어요.. 룸 컨디션은 좋았습니다 ~~[REVIEW_END]\\n[REVIEW_START]위치도 너무 좋고 친절하고 깨끗했어요. 방도 넓고 이용하기 편리했어요.[REVIEW_END]\\n[REVIEW_START]잘쉬다갑니다[REVIEW_END]\\n[REVIEW_START]인사동 접근성 좋고 룸 컨디션 좋습니다.[REVIEW_END]\\n[REVIEW_START]친절하시고 좋앗어요[REVIEW_END]\\n[REVIEW_START]위치가 돌아다니기 너무 좋아요:)[REVIEW_END]\\n[REVIEW_START]깔끔하고 위치도 너무 좋았습니다. 조계사도 살짝 보여서 좋았어요[REVIEW_END]\\n[REVIEW_START]깨끗하고 지하철역도 근처라 좋았어요[REVIEW_END]\\n[REVIEW_START]좋았어요 안국역에서 가는데 금방이에요 시설도 깔끔하고 좋았어요 베개는 꿀잠베개쓰는거 추천이요 조식도 괜찮았어요[REVIEW_END]\\n[REVIEW_START]아는 지인분 소개로 이용하게 되었습니다. 청결하고 너무 좋았습니다.[REVIEW_END]\\n[REVIEW_START]좋았습니다[REVIEW_END]\\n[REVIEW_START]인사동 북촌한옥마을까지 너무 잘 쉬고 놀고 좋았어요[REVIEW_END]\\n[REVIEW_START]너무나도 잘잤어요 덕분에 면접잘본거같아서 좋았어요 다음에도방문할게요[REVIEW_END]'"
      ]
     },
     "execution_count": 14,
     "metadata": {},
     "output_type": "execute_result"
    }
   ],
   "execution_count": 14
  },
  {
   "metadata": {
    "ExecuteTime": {
     "end_time": "2024-10-04T18:44:31.828585Z",
     "start_time": "2024-10-04T18:44:31.816589Z"
    }
   },
   "cell_type": "code",
   "source": "",
   "id": "4a3484c7cbf47d35",
   "outputs": [
    {
     "data": {
      "text/plain": [
       "'[REVIEW_START]재방문한 숙소인데..입지도좋고 먹을곳 많아서 좋아요[REVIEW_END]\\n[REVIEW_START]객실이 깨끗하고 직원도 친절해요. 침구가 깨끗하고 아주 '"
      ]
     },
     "execution_count": 19,
     "metadata": {},
     "output_type": "execute_result"
    }
   ],
   "execution_count": 19
  },
  {
   "metadata": {
    "ExecuteTime": {
     "end_time": "2024-10-04T15:14:15.337468Z",
     "start_time": "2024-10-04T15:14:15.333943Z"
    }
   },
   "cell_type": "code",
   "source": [
    "def pairwise_eval(reviews, answer_a, answer_b):\n",
    "    eval_prompt = f\"\"\"[System]\n",
    "Please act as an impartial judge and evaluate the quality of the Korean summaries provided by two\n",
    "AI assistants to the set of user reviews on accommodations displayed below. You should choose the assistant that\n",
    "follows the user’s instructions and answers the user’s question better. Your evaluation\n",
    "should consider factors such as the helpfulness, relevance, accuracy, depth, creativity,\n",
    "and level of detail of their responses. Begin your evaluation by comparing the two\n",
    "responses and provide a short explanation. Avoid any position biases and ensure that the\n",
    "order in which the responses were presented does not influence your decision. Do not allow\n",
    "the length of the responses to influence your evaluation. Do not favor certain names of\n",
    "the assistants. Be as objective as possible. After providing your explanation, output your\n",
    "final verdict by strictly following this format: \"[[A]]\" if assistant A is better, \"[[B]]\"\n",
    "if assistant B is better, and \"[[C]]\" for a tie.\n",
    "[User Reviews]\n",
    "{reviews}\n",
    "[The Start of Assistant A’s Answer]\n",
    "{answer_a}\n",
    "[The End of Assistant A’s Answer]\n",
    "[The Start of Assistant B’s Answer]\n",
    "{answer_b}\n",
    "[The End of Assistant B’s Answer]\"\"\"\n",
    "\n",
    "    completion = client.chat.completions.create(\n",
    "        model='gpt-4o-2024-05-13',\n",
    "        messages=[{'role': 'user', 'content': eval_prompt}],\n",
    "        temperature=0.0\n",
    "    )\n",
    "\n",
    "    return completion"
   ],
   "id": "2d69e5982caf14b6",
   "outputs": [],
   "execution_count": 11
  },
  {
   "metadata": {
    "ExecuteTime": {
     "end_time": "2024-10-04T15:04:31.657893Z",
     "start_time": "2024-10-04T15:04:31.654198Z"
    }
   },
   "cell_type": "code",
   "source": "PROMPT_BASELINE = f\"\"\"아래 숙소 리뷰에 대해 5문장 내로 요약해줘:\"\"\"\n",
   "id": "9847a3c0ec8b844c",
   "outputs": [],
   "execution_count": 3
  },
  {
   "metadata": {
    "ExecuteTime": {
     "end_time": "2024-10-04T19:17:17.992621Z",
     "start_time": "2024-10-04T19:17:17.979899Z"
    }
   },
   "cell_type": "code",
   "source": [
    "import datetime\n",
    "from dateutil import parser\n",
    "import json\n",
    "\n",
    "def preprocess_reviews(path='./res/reviews.json'):\n",
    "    with open(path, 'r', encoding='utf-8') as f:\n",
    "        review_list = json.load(f)\n",
    "\n",
    "\n",
    "    reviews_good, reivews_bad = [], []\n",
    "\n",
    "    current_date = datetime.datetime.now()\n",
    "    date_boundary = current_date - datetime.timedelta(days=6*30)\n",
    "\n",
    "    filter_cnt = 0\n",
    "    for r in review_list:\n",
    "        review_date_str = r['date']\n",
    "        try:\n",
    "            review_date = parser.parse(review_date_str)\n",
    "        except (ValueError, TypeError):\n",
    "            review_date = current_date\n",
    "\n",
    "        if review_date < date_boundary:\n",
    "            continue\n",
    "        if (len(r['review']) < 70):\n",
    "            #print(f'Filtered review: {r[\"review\"]}')\n",
    "            filter_cnt += 1\n",
    "            continue\n",
    "        \n",
    "\n",
    "        if r['stars'] == 5:\n",
    "            reviews_good.append('[REVIEW_START]' + r['review'] + '[REVIEW_END]') # [REVIEW_START]와 [REVIEW_END]를 추가하여 문장의 시작과 끝을 구분 ( 스페셜 토큰 )\n",
    "        else:\n",
    "            reivews_bad.append('[REVIEW_START]' + r['review'] + '[REVIEW_END]')\n",
    "\n",
    "    review_good_text = '\\n'.join(reviews_good)\n",
    "    reivews_bad_text = '\\n'.join(reivews_bad)\n",
    "    # 리뷰 찍어보기\n",
    "    #print(f'Filtered reviews: {filter_cnt}')\n",
    "\n",
    "    return review_good_text, reivews_bad_text\n",
    "\n",
    "reviews, _ = preprocess_reviews()"
   ],
   "id": "efe989997be345d5",
   "outputs": [
    {
     "name": "stdout",
     "output_type": "stream",
     "text": [
      "Filtered review: 전반적으로 만족스러웠으나\n",
      "수압이 약해도 너무 약함.... 정말 역대급...\n",
      "수압 때문에 재방문 하지 않을 것임\n",
      "Filtered review: 재방문한 숙소인데..입지도좋고 먹을곳 많아서 좋아요\n",
      "Filtered review: 객실이 깨끗하고 직원도 친절해요. 침구가 깨끗하고 아주 좋았어요.\n",
      "Filtered review: 깔끔하고 친절합니다\n",
      "Filtered review: 직원분들도 너무 친절하고 방도 너무 쾌적하고 좋았습니다.\n",
      "Filtered review: 두번째이용인데 깔끔하고 좋았어요\n",
      "Accepted review: 가격대비 뷰를 제외하고 별로였음. 넷플릭스도 특정객실 외에 안되나봄... 직원들은 친절하나 호텔보다는 돗대기 시장 같은 느낌이 남...\n",
      "Filtered review: 숙소도 청결했고 위치도 간편하고 주변에 먹거리나 구경할 곳도 많아서 좋아요\n",
      "Filtered review: 안녕인사동이랑 붙어있어서 다양하게 놀고 먹고 체험하고 갑니다.\n",
      "Filtered review: 아 아 아 아 아 아\n",
      "Filtered review: 위치가 너무 좋아서 그 외 자잘한 단점이 다 상쇄되네요 주말 가격 살짝 더 낮았으면 좋겟어요\n",
      "Filtered review: 잘쉬고겁니다 방도 깨끗하니 너무좋았어요~\n",
      "Filtered review: 편안하게 잘 쉬었습니다.\n",
      "Filtered review: 조용하고 편안하게 잘 쉬었습니다.\n",
      "Accepted review: 가끔 서울 일정이 있을때마다 호텔을 이용하는데요.\n",
      "ㅍㅍㅇㅊ 바이 ㅅㄹㅌ을 자주 이용하다가 나인트리는 처음 방문했습니다.\n",
      "합리적인 가격에 위치도 좋아서 선택하게 됐어요.\n",
      "안국역 6번 출구에서 가까워 대중교통 이용하기 좋구요.\n",
      "주변 관광하기도 좋습니다.\n",
      "안녕인사동과 한 건물에 있어서 인프라가 정말 좋네요.\n",
      "편의점은 바깥쪽 다른 건물로 이동했더라구요. 건물내에는 없으니 참고하세요.\n",
      "다 좋은데 소파앞에 티테이블이 없다보니 조금 불편하더라구요. 소파에 앉아서 먹고싶은데 들고 먹어야해서..\n",
      "다른분들도 불편했던지 소파가 많이 이것저것 오염되어서 안빠지는것 같더라구요. 개선하면 좋을것 같아요\n",
      "Filtered review: 최고에요! 잘 쉬다갑니다 주변 볼거리도 많고 호텔도 깨끗해요\n",
      "Filtered review: 정말 깔끔하고 편하고 저렴하게 다녀왔습니다. 단점이 하나 있다면 방음은 좀 부족한거 같습니다.\n",
      "Filtered review: 깔끔하고 편합니다.\n",
      "Accepted review: 객실연결 엘베불편 벽지가 울렁 다 떠있음\n",
      "그래도 참았는데\n",
      "24시간스테이하는데 중간에 문열고 허락없이 청소하고나가심  외출했다가 다시들어와서 깜놀 믿고 문잠그고 캐리어 다두고 나갔다가\n",
      "어이없음!!황당 그자체\n",
      "사과는 엄청하심!! 그래도 찜찜해서 넘 불쾌함!!!\n",
      "Filtered review: 3박 예약했는데. 1박과 나머지 2박 예약조건이 달라 방을 옮겨야하나 생각했는데 고객센터에서 친절하게 응대해주셨음.\n",
      "Accepted review: 인사동 안국역 근처라 근처 볼거리와 즐길거리가 많았고, 조식도 맛있었습니다.\n",
      "청소 별하나 뺀거는 앞 투숙객의 긴 머리카락이 몇개 보여서 였고, 다른건 청결하게 관리를 잘 하신거 같아요.\n",
      "Filtered review: 11층 배정받았는데 뷰도 좋고 객실 청결하고 깔끔해서 편안히 쉬었어요\n",
      "Filtered review: 직원분들 참 친절하셨고 편안하게 쉬고 갑니다.\n",
      "Filtered review: 서비스 및 위치가 매우 좋음\n",
      "Filtered review: 직원분들 친절하시고 잘 쉬다가 갑니다\n",
      "Filtered review: 다음에 또 올게요~\n",
      "Filtered review: 항상 오면 깔끔하고 쾌적한 호텔입니다\n",
      "Filtered review: 주변에서 노느라 숙소에 있는 시간은 짧았지만,,  조계사뷰라 놀다보니 새벽 5시쯤 절에서 종도 치고 독특한 경험이었어요ㅋ\n",
      "Accepted review: 벽지가 한지라고는 하지만,,,  얼룩도 있고 깔끔해보이지 않아서 실망이었어요,  그래도 위치가 워낙 좋아서 잘 놀다 왔습니다. 가격이 좀 쎄긴해요ㅎ\n",
      "Filtered review: 더 좋아진것같습니다.\n",
      "Filtered review: 깨끗하고 친절해서 좋았어요\n",
      "Filtered review: 지리적 요건도 좋은것 같고 주차장 이용에도 편리했습니다.\n",
      "Filtered review: 편하게 쉬다가 갑니당~~\n",
      "Accepted review: 우선 접근성이 너무 좋구요(종로,광화문,경복궁,광장시장,인사동) 숙소도 청결하고 프론트 직원분들도 너무 친절하세요.. 건물에 식당도 있어서 너무나 편했어여..진짜 요기 추천이요..욕조 크게 필요하지 않으신분들은 미리 얘기하시면 욕조없는곳으로 배정해주시는데..전 없는쪽이 더 낫더라구요\r\n",
      "(사진이 용량이 너무 작아서 2장밖에 안올라가네여ㅜ)\n",
      "Filtered review: 잘쉬었다 왔습니다 역시나 편하네요\n",
      "Filtered review: 위치가 좋고 객실상태도 괜찮았어요 가성비도 좋아서 또 올것 같아요\n",
      "Filtered review: 여자친구랑 편히 잘 쉬고 놀다 갑니당 방 깨끗하구 에어컨 잘 나와서 시원하네욤\n",
      "Filtered review: 최고에요~~~~~~\n",
      "Filtered review: 침대 너무 편해요 단 주차비 내야하니 참조하세요\n",
      "Filtered review: 침대 너누 편해요. 단 주차비 내야하니 참조하세요\n",
      "Filtered review: 위치가 최상이네요. 시설도 깔끔하고, 뷰도 좋았어요. 인사동쪽으로 간다면 최상의 선택!!\n",
      "Filtered review: 인사동 방문시에는 항상 이용하고 있습니다,.위치와 서비스 모두 만족합니다\n",
      "Accepted review: 명동에서 주차가능한 이가격대 숙소가 드문데\r\n",
      "접근성이나 편의시설은 만족해요\r\n",
      "그런데 객실분위기가 생각보다 칙칙하고\r\n",
      "침구와 바닥에 먼지가..ㅠ\n",
      "Filtered review: 친절하고 위치가 좋습니다\n",
      "Filtered review: 재방문 의사 1000%\n",
      "Filtered review: 깨끗하고 너무 좋았어요\n",
      "Filtered review: 위치도 아주좋고 숙소도 깨끗하고 좋아요~\n",
      "Filtered review: 잘쉬고놀다갑니다  감사\n",
      "Filtered review: 숙소는 말할 필요 없을것 같고 주변 인사동과 조계사 위로 경복궁을 도보로 품은 입지가 최고인 곳\n",
      "Filtered review: 3번째 방문인데 좋습니다! 주변관광지와 교통도 좋습니다.\n",
      "Filtered review: 인생 최고의 호텔입니다\n",
      "Filtered review: 안국역 근처에 놀거리도 많아서 좋아요\n",
      "Filtered review: 전체적으로 깔끔했어요! 기념일에 방문했슴니다.\n",
      "Accepted review: 나인트리인사동은 서울갈때마다 하루는 꼭 숙박하는 곳입니다. 시설이나 서비스 위치 뭐하나 빠지는 것 없는 최고의 숙소입니다. 이번에도 정말 편안하게 잘 쉬다 왔습니다. ^^\n",
      "Filtered review: 엄마랑 같이 이용했는데 위치도 좋고 깔끔하고 좋았습니다\n",
      "Filtered review: 시설도 깨끗하고 호텔문을 나오면 인사동이라 주변 관광하기 너무 편리합니다^^\n",
      "Filtered reviews: 48\n"
     ]
    }
   ],
   "execution_count": 57
  },
  {
   "metadata": {
    "ExecuteTime": {
     "end_time": "2024-10-04T19:17:47.546780Z",
     "start_time": "2024-10-04T19:17:45.274542Z"
    }
   },
   "cell_type": "code",
   "source": [
    "reviews, _ = preprocess_reviews(path='./res/reviews.json')\n",
    "\n",
    "def summarize(reviews, prompt, temperature=0.0, model='gpt-3.5-turbo-0125'):\n",
    "    prompt = prompt + '\\n\\n' + reviews\n",
    "    \n",
    "    completion = client.chat.completions.create(\n",
    "        model=model,\n",
    "        messages=[{'role': 'user', 'content': prompt}],\n",
    "        temperature=temperature\n",
    "    )\n",
    "    \n",
    "    return completion\n",
    "\n",
    "print(summarize(reviews, PROMPT_BASELINE).choices[0].message.content)"
   ],
   "id": "7df69d645d625992",
   "outputs": [
    {
     "name": "stdout",
     "output_type": "stream",
     "text": [
      "Filtered review: 전반적으로 만족스러웠으나\n",
      "수압이 약해도 너무 약함.... 정말 역대급...\n",
      "수압 때문에 재방문 하지 않을 것임\n",
      "Filtered review: 재방문한 숙소인데..입지도좋고 먹을곳 많아서 좋아요\n",
      "Filtered review: 객실이 깨끗하고 직원도 친절해요. 침구가 깨끗하고 아주 좋았어요.\n",
      "Filtered review: 깔끔하고 친절합니다\n",
      "Filtered review: 직원분들도 너무 친절하고 방도 너무 쾌적하고 좋았습니다.\n",
      "Filtered review: 두번째이용인데 깔끔하고 좋았어요\n",
      "Accepted review: 가격대비 뷰를 제외하고 별로였음. 넷플릭스도 특정객실 외에 안되나봄... 직원들은 친절하나 호텔보다는 돗대기 시장 같은 느낌이 남...\n",
      "Filtered review: 숙소도 청결했고 위치도 간편하고 주변에 먹거리나 구경할 곳도 많아서 좋아요\n",
      "Filtered review: 안녕인사동이랑 붙어있어서 다양하게 놀고 먹고 체험하고 갑니다.\n",
      "Filtered review: 아 아 아 아 아 아\n",
      "Filtered review: 위치가 너무 좋아서 그 외 자잘한 단점이 다 상쇄되네요 주말 가격 살짝 더 낮았으면 좋겟어요\n",
      "Filtered review: 잘쉬고겁니다 방도 깨끗하니 너무좋았어요~\n",
      "Filtered review: 편안하게 잘 쉬었습니다.\n",
      "Filtered review: 조용하고 편안하게 잘 쉬었습니다.\n",
      "Accepted review: 가끔 서울 일정이 있을때마다 호텔을 이용하는데요.\n",
      "ㅍㅍㅇㅊ 바이 ㅅㄹㅌ을 자주 이용하다가 나인트리는 처음 방문했습니다.\n",
      "합리적인 가격에 위치도 좋아서 선택하게 됐어요.\n",
      "안국역 6번 출구에서 가까워 대중교통 이용하기 좋구요.\n",
      "주변 관광하기도 좋습니다.\n",
      "안녕인사동과 한 건물에 있어서 인프라가 정말 좋네요.\n",
      "편의점은 바깥쪽 다른 건물로 이동했더라구요. 건물내에는 없으니 참고하세요.\n",
      "다 좋은데 소파앞에 티테이블이 없다보니 조금 불편하더라구요. 소파에 앉아서 먹고싶은데 들고 먹어야해서..\n",
      "다른분들도 불편했던지 소파가 많이 이것저것 오염되어서 안빠지는것 같더라구요. 개선하면 좋을것 같아요\n",
      "Filtered review: 최고에요! 잘 쉬다갑니다 주변 볼거리도 많고 호텔도 깨끗해요\n",
      "Filtered review: 정말 깔끔하고 편하고 저렴하게 다녀왔습니다. 단점이 하나 있다면 방음은 좀 부족한거 같습니다.\n",
      "Filtered review: 깔끔하고 편합니다.\n",
      "Accepted review: 객실연결 엘베불편 벽지가 울렁 다 떠있음\n",
      "그래도 참았는데\n",
      "24시간스테이하는데 중간에 문열고 허락없이 청소하고나가심  외출했다가 다시들어와서 깜놀 믿고 문잠그고 캐리어 다두고 나갔다가\n",
      "어이없음!!황당 그자체\n",
      "사과는 엄청하심!! 그래도 찜찜해서 넘 불쾌함!!!\n",
      "Filtered review: 3박 예약했는데. 1박과 나머지 2박 예약조건이 달라 방을 옮겨야하나 생각했는데 고객센터에서 친절하게 응대해주셨음.\n",
      "Accepted review: 인사동 안국역 근처라 근처 볼거리와 즐길거리가 많았고, 조식도 맛있었습니다.\n",
      "청소 별하나 뺀거는 앞 투숙객의 긴 머리카락이 몇개 보여서 였고, 다른건 청결하게 관리를 잘 하신거 같아요.\n",
      "Filtered review: 11층 배정받았는데 뷰도 좋고 객실 청결하고 깔끔해서 편안히 쉬었어요\n",
      "Filtered review: 직원분들 참 친절하셨고 편안하게 쉬고 갑니다.\n",
      "Filtered review: 서비스 및 위치가 매우 좋음\n",
      "Filtered review: 직원분들 친절하시고 잘 쉬다가 갑니다\n",
      "Filtered review: 다음에 또 올게요~\n",
      "Filtered review: 항상 오면 깔끔하고 쾌적한 호텔입니다\n",
      "Filtered review: 주변에서 노느라 숙소에 있는 시간은 짧았지만,,  조계사뷰라 놀다보니 새벽 5시쯤 절에서 종도 치고 독특한 경험이었어요ㅋ\n",
      "Accepted review: 벽지가 한지라고는 하지만,,,  얼룩도 있고 깔끔해보이지 않아서 실망이었어요,  그래도 위치가 워낙 좋아서 잘 놀다 왔습니다. 가격이 좀 쎄긴해요ㅎ\n",
      "Filtered review: 더 좋아진것같습니다.\n",
      "Filtered review: 깨끗하고 친절해서 좋았어요\n",
      "Filtered review: 지리적 요건도 좋은것 같고 주차장 이용에도 편리했습니다.\n",
      "Filtered review: 편하게 쉬다가 갑니당~~\n",
      "Accepted review: 우선 접근성이 너무 좋구요(종로,광화문,경복궁,광장시장,인사동) 숙소도 청결하고 프론트 직원분들도 너무 친절하세요.. 건물에 식당도 있어서 너무나 편했어여..진짜 요기 추천이요..욕조 크게 필요하지 않으신분들은 미리 얘기하시면 욕조없는곳으로 배정해주시는데..전 없는쪽이 더 낫더라구요\r\n",
      "(사진이 용량이 너무 작아서 2장밖에 안올라가네여ㅜ)\n",
      "Filtered review: 잘쉬었다 왔습니다 역시나 편하네요\n",
      "Filtered review: 위치가 좋고 객실상태도 괜찮았어요 가성비도 좋아서 또 올것 같아요\n",
      "Filtered review: 여자친구랑 편히 잘 쉬고 놀다 갑니당 방 깨끗하구 에어컨 잘 나와서 시원하네욤\n",
      "Filtered review: 최고에요~~~~~~\n",
      "Filtered review: 침대 너무 편해요 단 주차비 내야하니 참조하세요\n",
      "Filtered review: 침대 너누 편해요. 단 주차비 내야하니 참조하세요\n",
      "Filtered review: 위치가 최상이네요. 시설도 깔끔하고, 뷰도 좋았어요. 인사동쪽으로 간다면 최상의 선택!!\n",
      "Filtered review: 인사동 방문시에는 항상 이용하고 있습니다,.위치와 서비스 모두 만족합니다\n",
      "Accepted review: 명동에서 주차가능한 이가격대 숙소가 드문데\r\n",
      "접근성이나 편의시설은 만족해요\r\n",
      "그런데 객실분위기가 생각보다 칙칙하고\r\n",
      "침구와 바닥에 먼지가..ㅠ\n",
      "Filtered review: 친절하고 위치가 좋습니다\n",
      "Filtered review: 재방문 의사 1000%\n",
      "Filtered review: 깨끗하고 너무 좋았어요\n",
      "Filtered review: 위치도 아주좋고 숙소도 깨끗하고 좋아요~\n",
      "Filtered review: 잘쉬고놀다갑니다  감사\n",
      "Filtered review: 숙소는 말할 필요 없을것 같고 주변 인사동과 조계사 위로 경복궁을 도보로 품은 입지가 최고인 곳\n",
      "Filtered review: 3번째 방문인데 좋습니다! 주변관광지와 교통도 좋습니다.\n",
      "Filtered review: 인생 최고의 호텔입니다\n",
      "Filtered review: 안국역 근처에 놀거리도 많아서 좋아요\n",
      "Filtered review: 전체적으로 깔끔했어요! 기념일에 방문했슴니다.\n",
      "Accepted review: 나인트리인사동은 서울갈때마다 하루는 꼭 숙박하는 곳입니다. 시설이나 서비스 위치 뭐하나 빠지는 것 없는 최고의 숙소입니다. 이번에도 정말 편안하게 잘 쉬다 왔습니다. ^^\n",
      "Filtered review: 엄마랑 같이 이용했는데 위치도 좋고 깔끔하고 좋았습니다\n",
      "Filtered review: 시설도 깨끗하고 호텔문을 나오면 인사동이라 주변 관광하기 너무 편리합니다^^\n",
      "Filtered reviews: 48\n",
      "나인트리 안국역 근처 호텔로 대중교통 이용이 편리하고 주변 관광하기 좋은 합리적인 가격의 숙소. 청결한 시설과 친절한 직원, 맛있는 조식이 인상적이며, 욕조 없는 객실도 요청 시 배정 가능. 소파 앞에 티테이블이 없어 불편함을 느낀 점과 개선이 필요한 부분이 있음.\n"
     ]
    }
   ],
   "execution_count": 58
  },
  {
   "metadata": {
    "ExecuteTime": {
     "end_time": "2024-10-04T15:14:25.835036Z",
     "start_time": "2024-10-04T15:14:22.164809Z"
    }
   },
   "cell_type": "code",
   "source": [
    "summary_real_good_reviews = '청결하고 편안한 객실을 제공하며, 친절한 직원 서비스가 돋보입니다. 인사동과 가까워 다양한 먹거리와 관광지를 쉽게 이용할 수 있어 접근성이 우수합니다. 주변 환경도 조용하고 쾌적하여 편안한 휴식을 제공합니다. 일부 리뷰에서는 방음과 소파의 편의성에 대한 언급이 있으나, 전반적으로 긍정적인 후기가 많습니다. 합리적인 가격에 만족스러운 숙박 경험을 할 수 있는 장소로 추천됩니다.'\n",
    "\n",
    "print(pairwise_eval(reviews, summarize(reviews, PROMPT_BASELINE).choices[0].message.content , summary_real_good_reviews).choices[0].message.content)\n"
   ],
   "id": "a05dc2d3325dd329",
   "outputs": [
    {
     "name": "stdout",
     "output_type": "stream",
     "text": [
      "청결하고 편안한 객실을 제공하며, 친절한 직원 서비스가 돋보입니다. 인사동과 가까워 다양한 먹거리와 관광지를 쉽게 이용할 수 있어 접근성이 우수합니다. 주변 환경도 조용하고 쾌적하여 편안한 휴식을 제공합니다. 일부 리뷰에서는 방음과 소파의 편의성에 대한 언급이 있으나, 전반적으로 긍정적인 후기가 많습니다. 합리적인 가격에 만족스러운 숙박 경험을 할 수 있는 장소로 추천됩니다.\n",
      "Assistant A의 요약은 숙소의 위치, 청결함, 직원의 친절함, 그리고 재방문 의사를 강조하며 간결하게 요약했습니다. 그러나 구체적인 세부 사항이 부족하여 깊이와 세부적인 정보가 부족합니다.\n",
      "\n",
      "Assistant B의 요약은 청결하고 편안한 객실, 친절한 직원 서비스, 인사동과의 접근성, 조용하고 쾌적한 환경 등 다양한 측면을 다루고 있습니다. 또한 방음과 소파의 편의성에 대한 언급을 포함하여 긍정적이면서도 균형 잡힌 평가를 제공하고 있습니다. 이는 리뷰의 다양한 측면을 잘 반영하고 있으며, 사용자에게 더 유용한 정보를 제공합니다.\n",
      "\n",
      "따라서, Assistant B의 요약이 더 깊이 있고 세부적인 정보를 제공하여 사용자에게 더 도움이 됩니다.\n",
      "\n",
      "[[B]]\n"
     ]
    }
   ],
   "execution_count": 12
  },
  {
   "metadata": {
    "ExecuteTime": {
     "end_time": "2024-10-04T15:20:02.330993Z",
     "start_time": "2024-10-04T15:19:46.545635Z"
    }
   },
   "cell_type": "code",
   "source": [
    "eval_count = 10\n",
    "\n",
    "summaries_baseline = [summarize(reviews, PROMPT_BASELINE, temperature=1.0).choices[0].message.content for _ in range(eval_count)]\n",
    "summaries_baseline"
   ],
   "id": "7600ad9e54698688",
   "outputs": [
    {
     "data": {
      "text/plain": [
       "['다양한 리뷰를 캌닼해 호텔을 자주 이용하는 이들에게 인사동 근처의 이 숙소는 위치가 좋고 깨끗하며 직원들도 친절하다는 긍정적인 평가가 많다.',\n",
       " '다양한 리뷰가 있지만 대체로 숙소는 깨끗하고 위치가 좋아서 만족스러운 투숙을 하고 있는 것으로 요약됩니다.',\n",
       " '다양한 음식점이 있고 위치가 좋아서 재방문이 많은 숙소로, 깨끗하고 친절한 서비스로 만족도가 높다. 위치가 좋아 대중교통 이용이 편리하며, 청결하고 편안한 휴식을 제공한다.',\n",
       " '숙소 위치가 좋고 깨끗하며 직원도 친절하다. 방이 깔끔하고 편안하다.',\n",
       " '다양한 리뷰 중 일부는 숙소의 깨끗함과 친절한 직원들, 그리고 좋은 위치에 대한 긍정적인 평가를 받았으며, 가격 대비 만족도가 높은 것으로 요약할 수 있습니다.',\n",
       " '다양한 음식점이 있고 위치도 좋아서 재방문했고, 객실이 깨끗하고 직원 친절하며 침구도 훌륭했다. 재방문 의사가 1000%이며, 위치와 서비스에 만족하며 편안하게 쉬었다. 위치도 좋고 친절한 직원들이 있어서 추천할 만한 호텔이다.',\n",
       " '다양한 먹거리와 입지가 좋은 숙소, 친절한 직원과 깨끗한 객실, 좋은 위치와 청결한 숙소, 편리한 주변 시설과 깔끔한 숙소, 편안하고 깨끗한 호텔',\n",
       " '1. 숙소 위치가 좋고 주변 맛집이 많아서 재방문하길 원해\\n2. 깨끗한 객실과 친절한 직원에 대해 좋은 평가를 받아\\n3. 두 번째 이용에서도 만족한 깔끔한 숙소로\\n4. 직원의 친절과 쾌적한 객실에 대한 좋은 리뷰를 받아\\n5. 깨끗한 숙소와 좋은 위치로 만족스러운 휴식을 취한 후 있음',\n",
       " '다양한 장점을 가진 숙소로 재방문하고 싶은 곳이며, 깔끔하고 친절한 서비스로 만족스러웠다. 위치도 좋고 먹을 곳도 많아서 편리하다.',\n",
       " '다양한 리뷰 중, 숙소 위치와 깨끗한 환경, 친절한 직원에 대한 긍정적인 평가가 많이 나왔습니다.']"
      ]
     },
     "execution_count": 13,
     "metadata": {},
     "output_type": "execute_result"
    }
   ],
   "execution_count": 13
  },
  {
   "metadata": {
    "ExecuteTime": {
     "end_time": "2024-10-04T19:04:06.330597Z",
     "start_time": "2024-10-04T19:03:22.890298Z"
    }
   },
   "cell_type": "code",
   "source": [
    "from tqdm import tqdm\n",
    "\n",
    "def pairwise_eval_batch(reviews, answers_a, answers_b):\n",
    "    a_cnt, b_cnt, draw_cnt = 0, 0, 0\n",
    "    for i in tqdm(range(len(answers_a))):\n",
    "        completion = pairwise_eval(reviews, answers_a[i], answers_b[i])\n",
    "        verdict_text = completion.choices[0].message.content\n",
    "        if '[[A]]' in verdict_text:\n",
    "            a_cnt += 1\n",
    "        elif '[[B]]' in verdict_text:\n",
    "            b_cnt += 1\n",
    "        elif '[[C]]' in verdict_text:\n",
    "            draw_cnt += 1\n",
    "        else: \n",
    "            print('Error')\n",
    "            \n",
    "    return a_cnt, b_cnt, draw_cnt\n",
    "\n",
    "wins, losses, ties = pairwise_eval_batch(reviews, summaries_baseline, [summary_real_good_reviews for _ in range(len(summaries_baseline))])\n",
    "print(f'Wins: {wins}, Losses: {losses}, Ties: {ties}')"
   ],
   "id": "7e6fb39bf3ff1d6c",
   "outputs": [
    {
     "name": "stderr",
     "output_type": "stream",
     "text": [
      "100%|██████████| 10/10 [00:43<00:00,  4.34s/it]"
     ]
    },
    {
     "name": "stdout",
     "output_type": "stream",
     "text": [
      "Wins: 0, Losses: 10, Ties: 0\n"
     ]
    },
    {
     "name": "stderr",
     "output_type": "stream",
     "text": [
      "\n"
     ]
    }
   ],
   "execution_count": 27
  },
  {
   "metadata": {
    "ExecuteTime": {
     "end_time": "2024-10-04T18:47:34.390600Z",
     "start_time": "2024-10-04T18:46:27.650208Z"
    }
   },
   "cell_type": "code",
   "source": [
    "prompt = f\"\"\"당신은 요약 전문가입니다. 사용자 숙소 리뷰들이 주어졌을 때 요약하는 것이 당신의 목표입니다.\n",
    "\n",
    "요약 결과는 다음 조건들을 충족해야 합니다:\n",
    "1. 모든 문장은 항상 존댓말로 끝나야 합니다.\n",
    "2. 숙소에 대해 소개하는 톤앤매너로 작성해주세요.\n",
    "  2-1. 좋은 예시\n",
    "    a) 전반적으로 좋은 숙소였고 방음도 괜찮았다는 평입니다.\n",
    "    b) 재방문 예정이라는 평들이 존재합니다.\n",
    "  2-2. 나쁜 예시\n",
    "    a) 좋은 숙소였고 방음도 괜찮았습니다.\n",
    "    b) 재방문 예정입니다.\n",
    "3. 요약 결과는 최소 2문장, 최대 5문장 사이로 작성해주세요.\n",
    "    \n",
    "아래 숙소 리뷰들에 대해 요약해주세요:\"\"\"\n",
    "\n",
    "eval_count = 10\n",
    "summaries = [summarize(reviews, prompt, temperature=1.0).choices[0].message.content for _ in range(eval_count)]\n",
    "wins, losses, ties = pairwise_eval_batch(reviews, summaries, [summary_real_good_reviews for _ in range(len(summaries))])\n",
    "print(f'Wins: {wins}, Losses: {losses}, Ties: {ties}')"
   ],
   "id": "a93c6c1f46ab7f35",
   "outputs": [
    {
     "name": "stderr",
     "output_type": "stream",
     "text": [
      "100%|██████████| 10/10 [00:40<00:00,  4.01s/it]"
     ]
    },
    {
     "name": "stdout",
     "output_type": "stream",
     "text": [
      "Wins: 1, Losses: 9, Ties: 0\n"
     ]
    },
    {
     "name": "stderr",
     "output_type": "stream",
     "text": [
      "\n"
     ]
    }
   ],
   "execution_count": 20
  },
  {
   "metadata": {
    "ExecuteTime": {
     "end_time": "2024-10-04T19:19:13.018960Z",
     "start_time": "2024-10-04T19:18:04.514667Z"
    }
   },
   "cell_type": "code",
   "source": [
    "eval_count = 10\n",
    "summaries = [summarize(reviews, prompt, temperature=1.0, model='gpt-3.5-turbo-0125').choices[0].message.content for _ in range(eval_count)]\n",
    "wins, losses, ties = pairwise_eval_batch(reviews, summaries, [summary_real_good_reviews for _ in range(len(summaries))])\n",
    "print(f'Wins: {wins}, Losses: {losses}, Ties: {ties}')"
   ],
   "id": "cb177b9ab3e6590",
   "outputs": [
    {
     "name": "stderr",
     "output_type": "stream",
     "text": [
      "100%|██████████| 10/10 [00:43<00:00,  4.31s/it]"
     ]
    },
    {
     "name": "stdout",
     "output_type": "stream",
     "text": [
      "Wins: 8, Losses: 2, Ties: 0\n"
     ]
    },
    {
     "name": "stderr",
     "output_type": "stream",
     "text": [
      "\n"
     ]
    }
   ],
   "execution_count": 61
  },
  {
   "metadata": {},
   "cell_type": "code",
   "outputs": [],
   "execution_count": null,
   "source": [
    "reviews_1shot, _ = preprocess_reviews('./res/ninetree_pangyo.json')\n",
    "summary_1shot = summarize(reviews_1shot, prompt, temperature=0.0, model='gpt-4-turbo-2024-04-09').choices[0].message.content\n",
    "prompt_1shot = f\"\"\"당신은 요약 전문가입니다. 사용자 숙소 리뷰들이 주어졌을 때 요약하는 것이 당신의 목표입니다.\n",
    "\n",
    "요약 결과는 다음 조건들을 충족해야 합니다:\n",
    "1. 모든 문장은 항상 존댓말로 끝나야 합니다.\n",
    "2. 숙소에 대해 소개하는 톤앤매너로 작성해주세요.\n",
    "  2-1. 좋은 예시\n",
    "    a) 전반적으로 좋은 숙소였고 방음도 괜찮았다는 평입니다.\n",
    "    b) 재방문 예정이라는 평들이 존재합니다.\n",
    "  2-2. 나쁜 예시\n",
    "    a) 좋은 숙소였고 방음도 괜찮았습니다.\n",
    "    b) 재방문 예정입니다.\n",
    "3. 요약 결과는 최소 2문장, 최대 5문장 사이로 작성해주세요.\n",
    "\n",
    "다음은 리뷰들과 요약 예시입니다.\n",
    "예시 리뷰들:\n",
    "{reviews_1shot}\n",
    "예시 요약 결과:\n",
    "{summary_1shot}\n",
    "    \n",
    "아래 숙소 리뷰들에 대해 요약해주세요:\"\"\"\n",
    "\n",
    "summaries = [summarize(reviews, prompt, temperature=1.0, model='gpt-3.5-turbo-0125').choices[0].message.content for _ in range(eval_count)]\n",
    "wins, losses, ties = pairwise_eval_batch(reviews, summaries, [summary_real_good_reviews for _ in range(len(summaries))])\n",
    "print(f'Wins: {wins}, Losses: {losses}, Ties: {ties}')"
   ],
   "id": "3eb17ec29f5ee5eb"
  },
  {
   "metadata": {},
   "cell_type": "code",
   "outputs": [],
   "execution_count": null,
   "source": [
    "\n",
    "prompt_1shot = f\"\"\"당신은 요약 전문가입니다. 사용자 숙소 리뷰들이 주어졌을 때 요약하는 것이 당신의 목표입니다. 다음은 리뷰들과 요약 예시입니다.\n",
    "예시 리뷰들:\n",
    "{reviews_1shot}\n",
    "예시 요약 결과:\n",
    "{summary_1shot}\n",
    "    \n",
    "아래 숙소 리뷰들에 대해 요약해주세요:\"\"\"\n",
    "\n",
    "summaries = [summarize(reviews, prompt_1shot, temperature=1.0, model='gpt-3.5-turbo-0125').choices[0].message.content for _ in range(eval_count)]\n",
    "wins, losses, ties = pairwise_eval_batch(reviews, summaries, [summary_real_good_reviews for _ in range(len(summaries))])\n",
    "print(f'Wins: {wins}, Losses: {losses}, Ties: {ties}')"
   ],
   "id": "f867177bc8e032e1"
  },
  {
   "metadata": {},
   "cell_type": "code",
   "outputs": [],
   "execution_count": null,
   "source": [
    "\n",
    "reviews_2shot, _ = preprocess_reviews('./res/ninetree_yongsan.json')\n",
    "summary_2shot = summarize(reviews_2shot, prompt_1shot, temperature=0.0, model='gpt-4-turbo-2024-04-09').choices[0].message.content\n",
    "\n",
    "prompt_2shot = f\"\"\"당신은 요약 전문가입니다. 사용자 숙소 리뷰들이 주어졌을 때 요약하는 것이 당신의 목표입니다. 다음은 리뷰들과 요약 예시입니다.\n",
    "\n",
    "예시 리뷰들 1:\n",
    "{reviews_1shot}\n",
    "예시 요약 결과 1:\n",
    "{summary_1shot}\n",
    "\n",
    "예시 리뷰들 2:\n",
    "{reviews_2shot}\n",
    "예시 요약 결과 2:\n",
    "{summary_2shot}\n",
    "    \n",
    "아래 숙소 리뷰들에 대해 요약해주세요:\"\"\"\n",
    "\n",
    "summaries = [summarize(reviews, prompt_2shot, temperature=1.0, model='gpt-3.5-turbo-0125').choices[0].message.content for _ in range(eval_count)]\n",
    "wins, losses, ties = pairwise_eval_batch(reviews, summaries, [summary_real_good_reviews for _ in range(len(summaries))])\n",
    "print(f'Wins: {wins}, Losses: {losses}, Ties: {ties}')"
   ],
   "id": "b26f4abbe0cc55f6"
  },
  {
   "metadata": {},
   "cell_type": "code",
   "outputs": [],
   "execution_count": null,
   "source": "",
   "id": "fe28bcc097e8ef62"
  }
 ],
 "metadata": {
  "kernelspec": {
   "display_name": "Python 3",
   "language": "python",
   "name": "python3"
  },
  "language_info": {
   "codemirror_mode": {
    "name": "ipython",
    "version": 2
   },
   "file_extension": ".py",
   "mimetype": "text/x-python",
   "name": "python",
   "nbconvert_exporter": "python",
   "pygments_lexer": "ipython2",
   "version": "2.7.6"
  }
 },
 "nbformat": 4,
 "nbformat_minor": 5
}
